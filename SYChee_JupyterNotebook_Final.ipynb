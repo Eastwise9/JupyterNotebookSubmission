{
  "metadata": {
    "language_info": {
      "codemirror_mode": {
        "name": "python",
        "version": 3
      },
      "file_extension": ".py",
      "mimetype": "text/x-python",
      "name": "python",
      "nbconvert_exporter": "python",
      "pygments_lexer": "ipython3",
      "version": "3.8"
    },
    "kernelspec": {
      "name": "python",
      "display_name": "Pyolite",
      "language": "python"
    }
  },
  "nbformat_minor": 4,
  "nbformat": 4,
  "cells": [
    {
      "cell_type": "markdown",
      "source": "# My Jupyter Notebook on IBM Watson Studio",
      "metadata": {}
    },
    {
      "cell_type": "markdown",
      "source": "**Chee Sze Yin**  \nCurrent Occupation: Freelancer Designer  \nDesired Occupation: Data Scientist\n",
      "metadata": {}
    },
    {
      "cell_type": "markdown",
      "source": "_I'm interested in Data Science because our lives are so intertwined with with internet creative technologies such as social media. We need to better understand these interactions in order to make better decisions - business decisions, sustainability, personal and professional development, etc._",
      "metadata": {}
    },
    {
      "cell_type": "markdown",
      "source": "### The code in Cell 5 (below) is a Random Number Generator office department's Secret Santa gift exchange. \nTop number is Secret Santa. Bottom number is the Secret Santa's assigned Recipient.\n\nKeep running code until all Secret Santa participants have been assigned a recipient.\n",
      "metadata": {}
    },
    {
      "cell_type": "code",
      "source": "# Program to generate a random number between 0 and 9. \n\n# importing the random module\nimport random\n\nprint(random.randint(1,10))\nprint(random.randint(1,10))",
      "metadata": {
        "trusted": true
      },
      "execution_count": 28,
      "outputs": [
        {
          "name": "stdout",
          "text": "10\n5\n",
          "output_type": "stream"
        }
      ]
    },
    {
      "cell_type": "markdown",
      "source": "### Secret Santa 2022\n\n|Secret Santa || For Recepient ||Recepient's Requested Gift|\n|---||:----||:---|\n|1. Dahlia||7. Aik Wee|[This mug from Starbucks thanks!](https://www.starbucks.com/menu/product/2123650/single)\n|2. Daniel||6. Mustafa| I don't care. Just get me something to troll Quentin. _He toilet-papered my desk_\n|3. Aaron||1. Dahlia| Plush of one little black things from Spirited Away. Don't know what they're called <img src=\"https://i.pinimg.com/originals/1b/cc/0f/1bcc0f699ce18251f9bec67799c64091.gif\"> \n|4. Fern||9. Quentin| Tin foil for Mustafa's desk. A LOT of tin foil >:)\n|5. Orn||10. Boon Weng| Aloe Vera gel. Korean brands only. \n|6. Mustafa||5. Orn| Booze. Anything but mead. \n|7. Aik Wee||4. Fern| Apple pen case in red or green\n|8. Sinead||3. Aaron| ~Just warn me when the idiots are going to toilet-paper each other. Again~ Chocolate or coffee. \n|9. Quentin||8. Sinead| Paulo Coelho's The Alchemist. Digital or paperback ok.\n|10. Boon Weng||2. Daniel| 1 month parking pass / 3 x unscented hand sanitizer (pocket size) / 1 x audiobook on Stoicism. Seneca preferred.\n",
      "metadata": {}
    },
    {
      "cell_type": "code",
      "source": "",
      "metadata": {},
      "execution_count": null,
      "outputs": []
    }
  ]
}